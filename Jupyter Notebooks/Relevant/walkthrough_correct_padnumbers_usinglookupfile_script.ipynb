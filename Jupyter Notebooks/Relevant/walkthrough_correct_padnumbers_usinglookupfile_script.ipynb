{
 "cells": [
  {
   "cell_type": "code",
   "execution_count": 1,
   "metadata": {
    "collapsed": true
   },
   "outputs": [],
   "source": [
    "import h5py\n",
    "import numpy as np\n",
    "import matplotlib.pyplot as plt\n",
    "import pandas as pd\n",
    "import pylab as py"
   ]
  },
  {
   "cell_type": "markdown",
   "metadata": {},
   "source": [
    "# Walk through of script: correct_padnumbers_usinglookupfile.py"
   ]
  },
  {
   "cell_type": "markdown",
   "metadata": {},
   "source": [
    "## Edit h5 file of data set\n",
    "### Goal: replace column 4 from values of 20,000 with correct pad number from the lookup table\n",
    "#### save the look up table as a 2d numpy array"
   ]
  },
  {
   "cell_type": "code",
   "execution_count": 2,
   "metadata": {
    "collapsed": true
   },
   "outputs": [],
   "source": [
    "#CoBo, AsAd, AGET, Channel, Pad number \n",
    "lookup = pd.read_csv('flatlookup.csv', usecols=[0,1,2,3,4], names=['CoBo','AsAd','AGET','Channel','pad_number'])             \n",
    "CoBo = lookup['CoBo'] \n",
    "AsAd = lookup['AsAd']\n",
    "AGET = lookup['AGET']\n",
    "Channel = lookup['Channel']\n",
    "pad_number = lookup['pad_number']"
   ]
  },
  {
   "cell_type": "code",
   "execution_count": 3,
   "metadata": {
    "collapsed": true
   },
   "outputs": [],
   "source": [
    "#save the lookup table as a 2d numpy array called 'lookuparray' \n",
    "#Note: NOT in order based on pad number\n",
    "lookuparray = np.zeros(shape=(10240,5), dtype=int)\n",
    "for i in range(10240):\n",
    "    lookuparray[i] = np.array([CoBo[i], AsAd[i], AGET[i], Channel[i], pad_number[i]])"
   ]
  },
  {
   "cell_type": "code",
   "execution_count": 4,
   "metadata": {
    "collapsed": true
   },
   "outputs": [],
   "source": [
    "#store the first 4 col of lookuplist lacking the pad number\n",
    "lookuparrayfirst4col = np.zeros(shape=(10240,4), dtype=int)\n",
    "for i in range(10240):\n",
    "    lookuparrayfirst4col[i] = lookuparray[i,:4]"
   ]
  },
  {
   "cell_type": "markdown",
   "metadata": {},
   "source": [
    "### extract the data from the h5 file"
   ]
  },
  {
   "cell_type": "code",
   "execution_count": 5,
   "metadata": {
    "collapsed": true
   },
   "outputs": [],
   "source": [
    "#list of event names to extract data for each event from the h5 file\n",
    "events = []\n",
    "for i in range(1,75):\n",
    "    events.append('get/'+str(i))"
   ]
  },
  {
   "cell_type": "code",
   "execution_count": 6,
   "metadata": {
    "collapsed": true
   },
   "outputs": [],
   "source": [
    "#store h5 data in the 3d array 'dataarrayevent'\n",
    "dataarrayevent = np.zeros(shape=(74,10240,517), dtype=int)\n",
    "dataarray = np.zeros(shape=(10240,517), dtype=int)\n",
    "#r to read only, r+ to read/write\n",
    "with h5py.File('run_0210.h5', 'r') as f:\n",
    "    for i in range(74):\n",
    "        dset = f[events[i]]\n",
    "        dataarray = np.copy(dset)\n",
    "        dataarrayevent[i] = dataarray"
   ]
  },
  {
   "cell_type": "code",
   "execution_count": 7,
   "metadata": {
    "collapsed": true
   },
   "outputs": [],
   "source": [
    "#store the first 4 col of each event in the 3d array 'dataarrayeventfirst4col'\n",
    "dataarrayeventfirst4col = np.zeros(shape=(74,10240,4), dtype=int)\n",
    "for i in range(74):\n",
    "    dataarrayeventfirst4col[i] = dataarrayevent[i,:,:4]"
   ]
  },
  {
   "cell_type": "markdown",
   "metadata": {},
   "source": [
    "### compare 'lookuparray' with each 'dataarray' for each of 74 events in 'dataarrayevent'\n",
    "# Inefficient method"
   ]
  },
  {
   "cell_type": "code",
   "execution_count": null,
   "metadata": {
    "collapsed": true
   },
   "outputs": [],
   "source": [
    "#for each event (denoted by i) and for each lookuparrayfirst4col pad number (denoted by j) compare the lookuparrayfirst4col\n",
    "# values against the dataarrayeventfirst4col value (event denoted by i and pad number denoted by k)\n",
    "for i in range(74):                     #events\n",
    "    for j in range(10240):              #lookuparrayfirst4col pad numbers\n",
    "        for k in range(10240):          #dataarrayeventfirst4col pad numbers\n",
    "            #if the lookup values match the dataarray values\n",
    "            if(np.array_equal(lookuparrayfirst4col[j], dataarrayeventfirst4col[i][k])):\n",
    "                #set the dataarrayevent pad number value as the lookuparray pad number value\n",
    "                dataarrayevent[i][k][4] = lookuparray[j][4]\n"
   ]
  },
  {
   "cell_type": "markdown",
   "metadata": {
    "collapsed": true
   },
   "source": [
    "### dataarrayevent now has the corrected padnumbers"
   ]
  },
  {
   "cell_type": "code",
   "execution_count": 26,
   "metadata": {
    "collapsed": true
   },
   "outputs": [],
   "source": [
    "#save dataarrayevents on cluster incase the data is lost\n",
    "for i in range(74):\n",
    "    text = \"event_\"+str(i+1)\n",
    "    data = dataarrayevent[i]\n",
    "    np.save(text, data) "
   ]
  },
  {
   "cell_type": "markdown",
   "metadata": {},
   "source": [
    "## Write a corrected h5 file"
   ]
  },
  {
   "cell_type": "code",
   "execution_count": 55,
   "metadata": {
    "collapsed": true
   },
   "outputs": [],
   "source": [
    "#original h5 file name is 'run_0210.h5'\n",
    "h5 = h5py.File('corrected_run_0210.h5', 'w')\n",
    "for i in range(74):\n",
    "    name = 'get/'+str(i+1)\n",
    "    h5.create_dataset(name, data=dataarrayevent[i])\n",
    "h5.close()"
   ]
  },
  {
   "cell_type": "markdown",
   "metadata": {},
   "source": [
    "### check h5 file is formated as expected"
   ]
  },
  {
   "cell_type": "code",
   "execution_count": 40,
   "metadata": {
    "collapsed": true
   },
   "outputs": [],
   "source": [
    "#list of event names to extract data for each event from the h5 file\n",
    "events = []\n",
    "for i in range(1,75):\n",
    "    events.append('get/'+str(i))"
   ]
  },
  {
   "cell_type": "code",
   "execution_count": 54,
   "metadata": {},
   "outputs": [
    {
     "name": "stdout",
     "output_type": "stream",
     "text": [
      "6865\n"
     ]
    }
   ],
   "source": [
    "with h5py.File('corrected_run_0210.h5', 'r') as f:\n",
    "    #for i in range(74):\n",
    "    dset = f['get/1']\n",
    "    print(dset[1][4])\n",
    "        "
   ]
  },
  {
   "cell_type": "code",
   "execution_count": null,
   "metadata": {
    "collapsed": true
   },
   "outputs": [],
   "source": []
  },
  {
   "cell_type": "code",
   "execution_count": null,
   "metadata": {
    "collapsed": true
   },
   "outputs": [],
   "source": []
  }
 ],
 "metadata": {
  "kernelspec": {
   "display_name": "attpc-alpha-alpha",
   "language": "python",
   "name": "attpc-alpha-alpha"
  },
  "language_info": {
   "codemirror_mode": {
    "name": "ipython",
    "version": 3
   },
   "file_extension": ".py",
   "mimetype": "text/x-python",
   "name": "python",
   "nbconvert_exporter": "python",
   "pygments_lexer": "ipython3",
   "version": "3.6.5"
  }
 },
 "nbformat": 4,
 "nbformat_minor": 2
}
