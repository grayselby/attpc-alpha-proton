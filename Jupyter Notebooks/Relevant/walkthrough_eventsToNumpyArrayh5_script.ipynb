{
 "cells": [
  {
   "cell_type": "markdown",
   "metadata": {},
   "source": [
    "# Exact walk through of script: eventsToNumpyArrayh5.py"
   ]
  },
  {
   "cell_type": "code",
   "execution_count": null,
   "metadata": {
    "collapsed": true
   },
   "outputs": [],
   "source": [
    "\"\"\"\n",
    "Generate images of ATTPC events for CNN.\n",
    "Author: Gray Selby\n",
    "\"\"\"\n",
    "import math\n",
    "import h5py\n",
    "import numpy as np\n",
    "import matplotlib.pyplot as plt\n",
    "import pylab as py\n",
    "import os\n",
    "import pytpc\n",
    "from random import shuffle"
   ]
  },
  {
   "cell_type": "code",
   "execution_count": null,
   "metadata": {
    "collapsed": true
   },
   "outputs": [],
   "source": [
    "#private methods\n",
    "\n",
    "#find average of trace for a single pad\n",
    "def _average(lst):\n",
    "    return sum(lst) / len(lst)\n",
    "\n",
    "#normalize using log base 10\n",
    "def _l(a):\n",
    "    return 0 if a == 0 else math.log10(a)"
   ]
  },
  {
   "cell_type": "code",
   "execution_count": null,
   "metadata": {
    "collapsed": true
   },
   "outputs": [],
   "source": [
    "# Threshold charge value used to determine a 'hit' on a pad if\n",
    "# the max - min of the trace is greater than\n",
    "THRESHOLD = 50\n",
    "# The number of pads in the AT-TPC\n",
    "NUMBEROFPADS = 10240\n",
    "# The number of time buckets the window spans\n",
    "WINDOWSIZE = 50"
   ]
  },
  {
   "cell_type": "code",
   "execution_count": null,
   "metadata": {
    "collapsed": true
   },
   "outputs": [],
   "source": [
    "def real_unlabeled_events(projection, save_path, prefix):\n",
    "    print('Processing data...')\n",
    "    data = []"
   ]
  },
  {
   "cell_type": "code",
   "execution_count": null,
   "metadata": {
    "collapsed": true
   },
   "outputs": [],
   "source": [
    "    events = pytpc.HDFDataFile('corrected_run_0210.h5', 'r')\n",
    "    for x, event in enumerate(events):\n",
    "        # Get pytpc xyzs\n",
    "        xyzs = event.xyzs(peaks_only=True, return_pads=True,\n",
    "            baseline_correction=False, cg_times=False)"
   ]
  },
  {
   "cell_type": "code",
   "execution_count": null,
   "metadata": {
    "collapsed": true
   },
   "outputs": [],
   "source": [
    "     event_trace = np.ndarray(NUMBEROFPADS, dtype=object)\n",
    "            # Get the events trace across each pad\n",
    "            with h5py.File('corrected_run_0210.h5', 'r') as f:\n",
    "                dset = f['get/'+str(x+1)]\n",
    "                trace = dset[:,10:510]    #works better when you exclude start and end\n",
    "                TRACELENGTH = len(trace[0])\n",
    "                for i in range(NUMBEROFPADS):\n",
    "                    y = np.zeros(TRACELENGTH)\n",
    "                    pad_number = dset[i,4]\n",
    "                    current_pad = trace[i]\n",
    "                    for j in range(TRACELENGTH):\n",
    "                        y[j] = current_pad[j]\n",
    "                    event_trace[pad_number] = y"
   ]
  },
  {
   "cell_type": "code",
   "execution_count": null,
   "metadata": {
    "collapsed": true
   },
   "outputs": [],
   "source": [
    "     hit_peaks = []\n",
    "            for i in range(NUMBEROFPADS):\n",
    "                trace = event_trace[i]\n",
    "                trace_max = np.amax(trace)\n",
    "                trace_average = _average(trace)\n",
    "                charge = trace_max - trace_average\n",
    "                peak_time = np.argmax(trace)\n",
    "                #move window across trace\n",
    "                for timebucket in range(25,475):\n",
    "                    firstvalue = trace[timebucket-25]\n",
    "                    middlevalue = trace[timebucket]\n",
    "                    lastvalue = trace[timebucket+25]\n",
    "                    average_first_last = (firstvalue+lastvalue)*0.5\n",
    "                    peakheight = middlevalue - average_first_last\n",
    "                    if peakheight > THRESHOLD:  #  time     charge   padnumber\n",
    "                        hit_peaks.append([peak_time, charge, i])\n",
    "                        break\n",
    "            np.asarray(hit_peaks)\n",
    "            HITPEAKSLENGTH = len(hit_peaks)"
   ]
  },
  {
   "cell_type": "code",
   "execution_count": null,
   "metadata": {
    "collapsed": true
   },
   "outputs": [],
   "source": [
    "      # Merge pytpc xyzs array with correct charge values\n",
    "            plot_points = np.zeros(shape=(HITPEAKSLENGTH,4))\n",
    "            for i in range(HITPEAKSLENGTH):\n",
    "                hitpeaks_padnum = hit_peaks[i][2]\n",
    "                for j in range(NUMBEROFPADS):\n",
    "                    xyzs_padnum = xyzs[j][4]\n",
    "                    if(hitpeaks_padnum == xyzs_padnum):\n",
    "                        plot_points[i][0] = xyzs[j][0]       #x\n",
    "                        plot_points[i][1] = xyzs[j][1]       #y\n",
    "                        plot_points[i][2] = hit_peaks[i][0]   #time\n",
    "                        plot_points[i][3] = hit_peaks[i][1]   #charge\n",
    "\n",
    "            data.append(plot_points)"
   ]
  },
  {
   "cell_type": "code",
   "execution_count": null,
   "metadata": {
    "collapsed": true
   },
   "outputs": [],
   "source": [
    "    # Take the log of charge data\n",
    "    log = np.vectorize(_l)\n",
    "\n",
    "    for event in data:\n",
    "        event[:,3] = log(event[:,3])\n",
    "\n",
    "    # Normalize\n",
    "    max_charge = np.array(list(map(lambda x: x[:, 3].max(),data))).max()\n",
    "\n",
    "    for e in data:\n",
    "        for point in e:\n",
    "            point[3] = point[3] / max_charge\n",
    "\n",
    "\n",
    "    print('Making images...')"
   ]
  },
  {
   "cell_type": "code",
   "execution_count": null,
   "metadata": {
    "collapsed": true
   },
   "outputs": [],
   "source": [
    "    # Make numpy set\n",
    "    images = np.empty((len(data), 128, 128, 3), dtype=np.uint8)\n",
    "\n",
    "    for i, event in enumerate(data):\n",
    "        e = event\n",
    "        if projection == 'zy':\n",
    "            x = e[:, 2] #actually z (time)\n",
    "            y = e[:, 1]\n",
    "            charge = e[:, 3]\n",
    "        elif projection == 'xy':\n",
    "            x = e[:, 0]\n",
    "            y = e[:, 1]\n",
    "            charge = e[:, 3]\n",
    "        else:\n",
    "            raise ValueError('Invalid projection value.')\n",
    "        fig = plt.figure(figsize=(1, 1), dpi=128)\n",
    "        "
   ]
  },
  {
   "cell_type": "code",
   "execution_count": null,
   "metadata": {
    "collapsed": true
   },
   "outputs": [],
   "source": [
    "        if projection == 'zy':\n",
    "                    plt.xlim(0.0, 512)\n",
    "                if projection == 'xy':\n",
    "                    plt.xlim(-275.0, 275.0)\n",
    "                plt.ylim((-275.0, 275.0))\n",
    "                plt.axis('off')\n",
    "                #cmap='gray_r' the _r inverts greyscale so high charge is black\n",
    "                #while low charge is white\n",
    "                plt.scatter(x, y, s=0.6, c=charge, cmap='gray_r')\n",
    "                fig.canvas.draw()\n",
    "                eventData = np.array(fig.canvas.renderer._renderer, dtype=np.uint8)\n",
    "                eventData = np.delete(eventData, 3, axis=2)\n",
    "                images[i] = eventData\n",
    "                plt.close()"
   ]
  },
  {
   "cell_type": "code",
   "execution_count": null,
   "metadata": {
    "collapsed": true
   },
   "outputs": [],
   "source": [
    "    print('Saving file...')\n",
    "\n",
    "    if not os.path.exists(save_path):\n",
    "        os.makedirs(save_path)\n",
    "\n",
    "    filename = os.path.join(save_path, prefix + 'images.h5')\n",
    "\n",
    "    #save to HDF5 file\n",
    "    h5 = h5py.File(filename, 'w')\n",
    "    h5.create_dataset('images', data=images)\n",
    "    #h5.create_dataset('max_charge', data=np.array([max_charge]))\n",
    "    h5.close()"
   ]
  },
  {
   "cell_type": "code",
   "execution_count": null,
   "metadata": {
    "collapsed": true
   },
   "outputs": [],
   "source": [
    "if __name__ == '__main__':\n",
    "    real_unlabeled_events('xy','./','new_hit_method_thresh50_')"
   ]
  }
 ],
 "metadata": {
  "kernelspec": {
   "display_name": "attpc-alpha-alpha",
   "language": "python",
   "name": "attpc-alpha-alpha"
  },
  "language_info": {
   "codemirror_mode": {
    "name": "ipython",
    "version": 3
   },
   "file_extension": ".py",
   "mimetype": "text/x-python",
   "name": "python",
   "nbconvert_exporter": "python",
   "pygments_lexer": "ipython3",
   "version": "3.6.5"
  }
 },
 "nbformat": 4,
 "nbformat_minor": 2
}
