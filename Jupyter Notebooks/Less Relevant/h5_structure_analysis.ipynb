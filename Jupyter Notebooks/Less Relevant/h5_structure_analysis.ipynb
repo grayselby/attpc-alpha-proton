{
 "cells": [
  {
   "cell_type": "code",
   "execution_count": null,
   "metadata": {
    "collapsed": true
   },
   "outputs": [],
   "source": [
    "import h5py\n",
    "import numpy as np\n",
    "import matplotlib.pyplot as plt\n",
    "import pandas as pd\n",
    "import pylab as py"
   ]
  },
  {
   "cell_type": "markdown",
   "metadata": {},
   "source": [
    "# Mostly from the very begining of the semester where I generally investigate the data set given to me\n",
    "\n",
    "# not particularly useful to the current analysis"
   ]
  },
  {
   "cell_type": "code",
   "execution_count": null,
   "metadata": {
    "collapsed": true
   },
   "outputs": [],
   "source": [
    "#list of event names to extract data for each event from the h5 file\n",
    "events = []\n",
    "for i in range(1,75):\n",
    "    events.append('get/'+str(i))"
   ]
  },
  {
   "cell_type": "markdown",
   "metadata": {},
   "source": [
    "# Event 1:\n",
    "# Plot time vs charge for each pad to look for peaks with chage > 500\n",
    "x                  : 1d array to hold time values from 0 through 511\n",
    "\n",
    "y                  : 1d array to hold charge values for each pad\n",
    "\n",
    "charge_foreach_pad : (10240,512) array to hold arrays of charge values for each pad"
   ]
  },
  {
   "cell_type": "code",
   "execution_count": null,
   "metadata": {
    "collapsed": true
   },
   "outputs": [],
   "source": [
    "charge_foreach_pad = np.ndarray(10240, dtype=object)    #list to hold arrays of charge for each pad\n",
    "pads_witha_hit = np.zeros(10240)                        #array to have a value of 1 for pad(index) with a \"hit\" (charge>500)\n",
    "with h5py.File('corrected_run_0210.h5', 'r') as f:\n",
    "    #===================== for event 1 ================================\n",
    "    dset = f['get/1']                                   #dset.shape (10240, 517) corresping to (pads, time)\n",
    "    #dset = dset[:,6:517]                               #removes first 5 columns\n",
    "    dset = dset[:,10:510]                           \n",
    "    for i in range(len(dset)):                          #i from 0 to 10240 for each pad\n",
    "        pad = dset[i]                                   #select pad from dset \n",
    "        y = np.zeros(len(dset[0]))#512)                 #[512] array to hold charge values\n",
    "        for j in range(len(dset[0])):                   #j from 0 to 512 for time values\n",
    "            if pad[j] >= 500:                           #if charge at time value is above 500\n",
    "                pads_witha_hit[i] = 1\n",
    "            y[j] = pad[j]\n",
    "        charge_foreach_pad[i] = y                       #add pads charge values to charge_perpad list\n",
    "    \n",
    "x = np.arange(len(dset[0]))                                      #array to hold time values"
   ]
  },
  {
   "cell_type": "markdown",
   "metadata": {},
   "source": [
    "## For each pad and if it has a \"hit\" check if the charge is > 800, if so make value 2"
   ]
  },
  {
   "cell_type": "code",
   "execution_count": null,
   "metadata": {
    "collapsed": true
   },
   "outputs": [],
   "source": [
    "for i in range(10240):\n",
    "    if pads_witha_hit[i] == 1:                   #if pads_witha_hit has a value of 1 then it is a pad with charge > 500\n",
    "        pad = charge_foreach_pad[i]              \n",
    "        for j in range(len(dset[0])):#512):                  \n",
    "            if pad[j] > 800:                     #if the pad has a charge over 800 \n",
    "               pads_witha_hit[i] = 2             #make the value 2 so that the plot will have a different title"
   ]
  },
  {
   "cell_type": "markdown",
   "metadata": {},
   "source": [
    "## For each pad if there is a hit, plot the pad"
   ]
  },
  {
   "cell_type": "code",
   "execution_count": null,
   "metadata": {
    "scrolled": true
   },
   "outputs": [],
   "source": [
    "num_of_plots = 0\n",
    "for i in range(10240):\n",
    "    if pads_witha_hit[i] != 0:                            #if the value of pads_witha_hit for each pad is non zero (1 or 2)\n",
    "        num_of_plots += 1\n",
    "        if pads_witha_hit[i] == 1:                        #if the value == 1 it does not have charge > 800\n",
    "            py.plot(x,charge_foreach_pad[i])\n",
    "            py.title(\"Pad \"+str(i))                       #regular title\n",
    "        else:                                             #if the value is 2 then it has a charge > 800\n",
    "            py.plot(x,charge_foreach_pad[i], 'r')\n",
    "            py.title(\"pad \"+str(i)+\" and charge value exceeds 800\") #add this to the title\n",
    "        py.xlabel(\"Time values\")\n",
    "        py.ylabel(\"charge values\")\n",
    "        py.ylim(200,800)\n",
    "        py.show()\n",
    "print(num_of_plots)"
   ]
  },
  {
   "cell_type": "markdown",
   "metadata": {},
   "source": [
    "## Plot only the pads with well defined peaks"
   ]
  },
  {
   "cell_type": "code",
   "execution_count": null,
   "metadata": {},
   "outputs": [],
   "source": [
    "peaks=pd.read_csv('padswithahitevent1.csv')             #manually picked out well defined peaks\n",
    "peak_padnum = peaks['Pad Numbers']                      #array of pad nums showing defined peaks"
   ]
  },
  {
   "cell_type": "code",
   "execution_count": null,
   "metadata": {
    "scrolled": false
   },
   "outputs": [],
   "source": [
    "x = range(1, 501)\n",
    "for i in range(len(peak_padnum)):\n",
    "    if peak_padnum[i] == 5771:\n",
    "        py.plot(x, charge_foreach_pad[peak_padnum[i]])   \n",
    "        py.title(\"Charge Trace for Pad \"+str(peak_padnum[i]))       \n",
    "        py.xlabel(\"Time Buckets\")\n",
    "        py.ylabel(\"Charge Values\")\n",
    "        py.ylim(200,800)\n",
    "        py.show()"
   ]
  },
  {
   "cell_type": "code",
   "execution_count": null,
   "metadata": {
    "scrolled": true
   },
   "outputs": [],
   "source": [
    "for i in range(len(peak_padnum)):\n",
    "    if pads_witha_hit[peak_padnum[i]] != 0:             #if the value of pads_witha_hit for each pad is non zero (1 or 2)\n",
    "        if pads_witha_hit[peak_padnum[i]] == 1:         #if the value == 1 it does not have charge > 800\n",
    "            py.plot(x,charge_foreach_pad[peak_padnum[i]])   #time vs charge for the number of pads given\n",
    "            py.title(\"Pad \"+str(peak_padnum[i]))        #regular title\n",
    "        else:                                               #if the value is 2 then it has a charge > 800\n",
    "            py.plot(x,charge_foreach_pad[peak_padnum[i]], 'r')   #time vs charge for the number of pads given\n",
    "            py.title(\"pad \"+str(peak_padnum[i])+\" | charge value exceeds 800\") #add this to the title\n",
    "        py.xlabel(\"Time values\")\n",
    "        py.ylabel(\"charge values\")\n",
    "        py.ylim(200,800)\n",
    "        py.show()"
   ]
  },
  {
   "cell_type": "markdown",
   "metadata": {},
   "source": [
    "# Plot x vs y coordinates of pads with a \"hit\" (>500) using the look up table"
   ]
  },
  {
   "cell_type": "markdown",
   "metadata": {},
   "source": [
    "-col E has value 0 on row 2676 of look up table\n",
    "\n",
    "-the columns of the look up table are CoBo, AsAd, AGET, channel and pad number"
   ]
  },
  {
   "cell_type": "code",
   "execution_count": null,
   "metadata": {
    "collapsed": true
   },
   "outputs": [],
   "source": [
    "\n",
    "\n",
    "\n",
    "\n",
    "\n",
    "\n",
    "\n",
    "\n"
   ]
  },
  {
   "cell_type": "markdown",
   "metadata": {},
   "source": [
    "# histograms of charge values\n",
    "## not informative"
   ]
  },
  {
   "cell_type": "markdown",
   "metadata": {},
   "source": [
    "# =============================================================="
   ]
  },
  {
   "cell_type": "markdown",
   "metadata": {},
   "source": [
    "# For Event 1 when charge value > 500"
   ]
  },
  {
   "cell_type": "markdown",
   "metadata": {},
   "source": [
    "## To gather what we consider to be \"hits\""
   ]
  },
  {
   "cell_type": "code",
   "execution_count": null,
   "metadata": {
    "collapsed": true
   },
   "outputs": [],
   "source": [
    "hit_dsetholder_500 = []                          #holds np arrays of copies of dset only containing zeros and \"hits\" \n",
    "counterSet_500 = []                              #tells us how many \"hits\" for the assumed threshold\n",
    "with h5py.File('run_0210.h5', 'r') as f:\n",
    "    #===================== for event 1 ================================\n",
    "    dset = f['get/1']                             #dset.shape (10240, 517) corresping to (pads, time)\n",
    "    dset = dset[:,6:517]                          #removes first 5 columns\n",
    "    hit_dset_500 = np.zeros(shape=dset.shape)     #same shape as dset\n",
    "    for i in range(len(dset)):                    #i from 0 to 10240 for each pad\n",
    "        pad = dset[i]                             #select pad from dset \n",
    "        counter = 0                               #initiate counter for each pad\n",
    "        for j in range(len(dset[0])):             #j from 0 to 512 for time values\n",
    "            if pad[j] >= 500:                     #if charge at time value is above 500\n",
    "                counter += 1                      #increase counter by one for the pad\n",
    "                hit_dset_500[i,j] = pad[j]        #add value to hit_dset\n",
    "                \n",
    "        counterSet_500.append(counter)\n",
    "        hit_dsetholder_500.append(hit_dset_500)"
   ]
  },
  {
   "cell_type": "markdown",
   "metadata": {},
   "source": [
    "### To plot a histagram of charge value > 500"
   ]
  },
  {
   "cell_type": "code",
   "execution_count": null,
   "metadata": {},
   "outputs": [],
   "source": [
    "hits_500 = []\n",
    "for i in range(len(hit_dset_500)):\n",
    "    for j in range(len(hit_dset_500[0])):\n",
    "        if hit_dset_500[i,j] > 1:\n",
    "            hits_500.append(hit_dset_500[i,j])\n",
    "print(len(hits_500))"
   ]
  },
  {
   "cell_type": "code",
   "execution_count": null,
   "metadata": {
    "collapsed": true
   },
   "outputs": [],
   "source": [
    "def hist_event1_over500():\n",
    "    plt.hist(hits_500, bins=100, range=[400,800])\n",
    "    plt.xlabel(\"Charge Value > 500\")\n",
    "    plt.ylabel(\"Frequency\")\n",
    "    plt.title('Distribution of charge > 500 for event 1')\n",
    "    plt.rcParams['figure.figsize'] = [25, 15] #changes size of plot\n",
    "    plt.show()"
   ]
  },
  {
   "cell_type": "code",
   "execution_count": null,
   "metadata": {},
   "outputs": [],
   "source": [
    "hist_event1_over500()"
   ]
  },
  {
   "cell_type": "code",
   "execution_count": null,
   "metadata": {},
   "outputs": [],
   "source": [
    "print(len(hit_dset_500[0]))\n",
    "print(len(hit_dset_500))"
   ]
  },
  {
   "cell_type": "markdown",
   "metadata": {},
   "source": [
    "### Need the look up table to be able to plot x vs y to look for spirals\n",
    "\n",
    "# Note: Sadly NOT True"
   ]
  },
  {
   "cell_type": "code",
   "execution_count": null,
   "metadata": {
    "collapsed": true
   },
   "outputs": [],
   "source": [
    "x = np.zeros(shape=511)\n",
    "y = np.zeros(shape=10240)\n",
    "#for i in range(len(hit_dset_500[0])):\n",
    "    #for j in range(len(hit_dset_500)):\n",
    "        #if hit_dset_500[j,i] >= 500:\n",
    "            #x[i],y[j] = 1,1\n",
    "            \n",
    "#py.plot(x,y,\"k.\")"
   ]
  },
  {
   "cell_type": "markdown",
   "metadata": {},
   "source": [
    "# For Event 1 when charge value > 475"
   ]
  },
  {
   "cell_type": "code",
   "execution_count": null,
   "metadata": {
    "collapsed": true,
    "scrolled": false
   },
   "outputs": [],
   "source": [
    "#hit_dsetholder = np.zeros(shape=[1,74])\n",
    "#counterSet = np.zeros(shape=[1,10240])\n",
    "hit_dsetholder_475 = []\n",
    "counterSet_475 = []\n",
    "with h5py.File('run_0210.h5', 'r') as f:\n",
    "    #===================== for event 1 ================================\n",
    "    dset = f['get/1'] #dset.shape (10240, 517) corresping to (pads, time)\n",
    "    dset = dset[:,6:517] #removes first 5 columns\n",
    "    hit_dset_475 = np.zeros(shape=dset.shape) #same shape as dset\n",
    "    for i in range(len(dset)): #i from 0 to 10240 for each pad\n",
    "        pad = dset[i] #select pad from dset \n",
    "        counter = 0 #initiate counter for each pad\n",
    "        for j in range(len(dset[0])): #j from 0 to 512 for time values\n",
    "            if pad[j] >= 475: #if charge at time value is above 475\n",
    "                counter += 1  #increase counter by one for the pad\n",
    "                hit_dset_475[i,j] = pad[j] #add value to hit_dset\n",
    "                \n",
    "        #counterSet[i] = counter #add count value of hits on pad to counterSet \n",
    "        counterSet_475.append(counter)\n",
    "        #hit_dsetholder[0] = hit_dset #add hit_dset to the hit_dsetholder list to store the values\n",
    "        hit_dsetholder_475.append(hit_dset_475)   "
   ]
  },
  {
   "cell_type": "code",
   "execution_count": null,
   "metadata": {},
   "outputs": [],
   "source": [
    "#print(len(maxValuesForAllEvents)) #min value: 204      max value: 4095\n",
    "#print(hit_dsetholder[0])\n",
    "#print(hit_dsetholder[0]) #data rate exceeded\n",
    "#for i in range(len(counterSet)):\n",
    "    #print('Number of hits on pad '+str(i)+': '+str(counterSet[i]))\n",
    "#print(hit_dset[69])\n",
    "hits_475 = []\n",
    "for i in range(len(hit_dset_475)):\n",
    "    for j in range(len(hit_dset_475[0])):\n",
    "        if hit_dset_475[i,j] > 1:\n",
    "            hits_475.append(hit_dset_475[i,j])\n",
    "print(len(hits_475))"
   ]
  },
  {
   "cell_type": "code",
   "execution_count": null,
   "metadata": {
    "collapsed": true
   },
   "outputs": [],
   "source": [
    "def hist_event1_over475():\n",
    "    plt.hist(hits_475, bins=100, range=[400,800])\n",
    "    plt.xlabel(\"Charge Value > 475\")\n",
    "    plt.ylabel(\"Frequency\")\n",
    "    plt.title('Distribution of charge > 475 for event 1')\n",
    "    plt.rcParams['figure.figsize'] = [25, 15] #changes size of plot\n",
    "    plt.show()"
   ]
  },
  {
   "cell_type": "code",
   "execution_count": null,
   "metadata": {
    "scrolled": false
   },
   "outputs": [],
   "source": [
    "hist_event1_over475()"
   ]
  },
  {
   "cell_type": "markdown",
   "metadata": {},
   "source": [
    "# For Event 1 when charge value > 450"
   ]
  },
  {
   "cell_type": "code",
   "execution_count": null,
   "metadata": {
    "collapsed": true
   },
   "outputs": [],
   "source": [
    "hit_dsetholder_450 = []\n",
    "counterSet_450 = []\n",
    "with h5py.File('run_0210.h5', 'r') as f:\n",
    "    #===================== for event 1 ================================\n",
    "    dset = f['get/1'] #dset.shape (10240, 517) corresping to (pads, time)\n",
    "    dset = dset[:,6:517] #removes first 5 columns\n",
    "    hit_dset_450 = np.zeros(shape=dset.shape) #same shape as dset\n",
    "    for i in range(len(dset)): #i from 0 to 10240 for each pad\n",
    "        pad = dset[i] #select pad from dset \n",
    "        counter = 0 #initiate counter for each pad\n",
    "        for j in range(len(dset[0])): #j from 0 to 512 for time values\n",
    "            if pad[j] >= 450: #if charge at time value is above 475\n",
    "                counter += 1  #increase counter by one for the pad\n",
    "                hit_dset_450[i,j] = pad[j] #add value to hit_dset\n",
    "                \n",
    "        counterSet_450.append(counter)\n",
    "        hit_dsetholder_450.append(hit_dset_450) "
   ]
  },
  {
   "cell_type": "code",
   "execution_count": null,
   "metadata": {},
   "outputs": [],
   "source": [
    "hits_450 = []\n",
    "for i in range(len(hit_dset_450)):\n",
    "    for j in range(len(hit_dset_450[0])):\n",
    "        if hit_dset_450[i,j] > 1:\n",
    "            hits_450.append(hit_dset_450[i,j])\n",
    "print(len(hits_450))"
   ]
  },
  {
   "cell_type": "code",
   "execution_count": null,
   "metadata": {
    "collapsed": true
   },
   "outputs": [],
   "source": [
    "def hist_event1_over450():\n",
    "    plt.hist(hits_450, bins=100, range=[400,700])\n",
    "    plt.xlabel(\"Charge Value > 450\")\n",
    "    plt.ylabel(\"Frequency\")\n",
    "    plt.title('Distribution of charge > 450 for event 1')\n",
    "    plt.rcParams['figure.figsize'] = [25, 15] #changes size of plot\n",
    "    plt.show()"
   ]
  },
  {
   "cell_type": "code",
   "execution_count": null,
   "metadata": {},
   "outputs": [],
   "source": [
    "hist_event1_over450()"
   ]
  },
  {
   "cell_type": "markdown",
   "metadata": {},
   "source": [
    "# For Event 1 when charge value > 425"
   ]
  },
  {
   "cell_type": "code",
   "execution_count": null,
   "metadata": {
    "collapsed": true
   },
   "outputs": [],
   "source": [
    "hit_dsetholder_425 = []\n",
    "counterSet_425 = []\n",
    "with h5py.File('run_0210.h5', 'r') as f:\n",
    "    #===================== for event 1 ================================\n",
    "    dset = f['get/1'] #dset.shape (10240, 517) corresping to (pads, time)\n",
    "    dset = dset[:,6:517] #removes first 5 columns\n",
    "    hit_dset_425 = np.zeros(shape=dset.shape) #same shape as dset\n",
    "    for i in range(len(dset)): #i from 0 to 10240 for each pad\n",
    "        pad = dset[i] #select pad from dset \n",
    "        counter = 0 #initiate counter for each pad\n",
    "        for j in range(len(dset[0])): #j from 0 to 512 for time values\n",
    "            if pad[j] >= 425: #if charge at time value is above 475\n",
    "                counter += 1  #increase counter by one for the pad\n",
    "                hit_dset_425[i,j] = pad[j] #add value to hit_dset\n",
    "                \n",
    "        counterSet_425.append(counter)\n",
    "        hit_dsetholder_425.append(hit_dset_425)"
   ]
  },
  {
   "cell_type": "code",
   "execution_count": null,
   "metadata": {},
   "outputs": [],
   "source": [
    "hits_425 = []\n",
    "for i in range(len(hit_dset_425)):\n",
    "    for j in range(len(hit_dset_425[0])):\n",
    "        if hit_dset_425[i,j] > 1:\n",
    "            hits_425.append(hit_dset_425[i,j])\n",
    "print(len(hits_425))"
   ]
  },
  {
   "cell_type": "code",
   "execution_count": null,
   "metadata": {
    "collapsed": true
   },
   "outputs": [],
   "source": [
    "def hist_event1_over425():\n",
    "    plt.hist(hits_425, bins=100, range=[400,700])\n",
    "    plt.xlabel(\"Charge Value > 425\")\n",
    "    plt.ylabel(\"Frequency\")\n",
    "    plt.title('Distribution of charge > 425 for event 1')\n",
    "    plt.rcParams['figure.figsize'] = [25, 15] #changes size of plot\n",
    "    plt.show()"
   ]
  },
  {
   "cell_type": "code",
   "execution_count": null,
   "metadata": {},
   "outputs": [],
   "source": [
    "hist_event1_over425()"
   ]
  },
  {
   "cell_type": "markdown",
   "metadata": {},
   "source": [
    "# For all events when charge value > 500"
   ]
  },
  {
   "cell_type": "code",
   "execution_count": null,
   "metadata": {},
   "outputs": [],
   "source": [
    "hit_dsetholder_all = []\n",
    "counterSet_all = []\n",
    "\n",
    "with h5py.File('run_0210.h5', 'r') as f:\n",
    "    #===================== for all events ================================\n",
    "    for event in events:                                   #event out of the 0 to 74 events (strings stored in the list events)\n",
    "        dset = f[event]                                    #dset for selected event\n",
    "        dset = dset[:,6:517]                               #removes first 5 columns\n",
    "        hit_dset_all = np.zeros(shape=dset.shape)          #same shape as dset\n",
    "        for i in range(len(dset)):                         #i from 0 to 10240 for each pad\n",
    "            pad = dset[i]                                  #select pad from dset \n",
    "            counter = 0                                    #initiate counter for each pad\n",
    "            for j in range(len(dset[0])):                  #j from 0 to 512 for time values\n",
    "                if pad[j] >= 500:                          #if charge at time value is above 500\n",
    "                    counter += 1                           #increase counter by one for the pad\n",
    "                    hit_dset_all[i,j] = pad[j]             #add value to hit_dset\n",
    "            counterSet_all.append(counter)                 #add count value of hits on pad to counterSet \n",
    "            hit_dsetholder_all.append(hit_dset_all)        #add hit_dset to the hit_dsetholder list to store the values"
   ]
  },
  {
   "cell_type": "code",
   "execution_count": null,
   "metadata": {
    "collapsed": true
   },
   "outputs": [],
   "source": [
    "hits_all = []\n",
    "for i in range(len(hit_dset_all)):\n",
    "    for j in range(len(hit_dset_all[0])):\n",
    "        if hit_dset_all[i,j] > 1:\n",
    "            hits_all.append(hit_dset_all[i,j])\n",
    "print(len(hits_all))"
   ]
  },
  {
   "cell_type": "code",
   "execution_count": null,
   "metadata": {
    "collapsed": true
   },
   "outputs": [],
   "source": [
    "def hist_all():\n",
    "    plt.hist(hits_all, bins=100, range=[400,700])\n",
    "    plt.xlabel(\"Charge Value > 500\")\n",
    "    plt.ylabel(\"Frequency\")\n",
    "    plt.title('Distribution of charge > 500 for all events')\n",
    "    plt.rcParams['figure.figsize'] = [25, 15] #changes size of plot\n",
    "    plt.show()"
   ]
  },
  {
   "cell_type": "code",
   "execution_count": null,
   "metadata": {},
   "outputs": [],
   "source": [
    "hist_all()"
   ]
  },
  {
   "cell_type": "code",
   "execution_count": null,
   "metadata": {
    "collapsed": true
   },
   "outputs": [],
   "source": [
    "def histogram(eventNumber):\n",
    "    plt.hist(maxValuesPerEvent[eventNumber-1], bins=100, range=[200,700])\n",
    "    plt.xlabel(\"Max Charge Value\")\n",
    "    plt.ylabel(\"Frequency\")\n",
    "    plt.title('Distribution of max values of charge on each pad for event '+str(eventNumber))\n",
    "    plt.rcParams['figure.figsize'] = [25, 15] #changes size of plot\n",
    "    plt.show()"
   ]
  },
  {
   "cell_type": "code",
   "execution_count": null,
   "metadata": {
    "scrolled": false
   },
   "outputs": [],
   "source": [
    "histogram(1)"
   ]
  },
  {
   "cell_type": "code",
   "execution_count": null,
   "metadata": {},
   "outputs": [],
   "source": [
    "histogram(2)"
   ]
  },
  {
   "cell_type": "code",
   "execution_count": null,
   "metadata": {
    "collapsed": true
   },
   "outputs": [],
   "source": []
  }
 ],
 "metadata": {
  "kernelspec": {
   "display_name": "attpc-alpha-alpha",
   "language": "python",
   "name": "attpc-alpha-alpha"
  },
  "language_info": {
   "codemirror_mode": {
    "name": "ipython",
    "version": 3
   },
   "file_extension": ".py",
   "mimetype": "text/x-python",
   "name": "python",
   "nbconvert_exporter": "python",
   "pygments_lexer": "ipython3",
   "version": "3.6.5"
  }
 },
 "nbformat": 4,
 "nbformat_minor": 2
}
